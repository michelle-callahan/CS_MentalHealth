{
 "cells": [
  {
   "cell_type": "code",
   "execution_count": 1,
   "id": "a33757d7",
   "metadata": {},
   "outputs": [],
   "source": [
    "!pip install opendatasets --upgrade --quiet"
   ]
  },
  {
   "cell_type": "code",
   "execution_count": 40,
   "id": "dab0632b",
   "metadata": {},
   "outputs": [],
   "source": [
    "import opendatasets as od\n",
    "import pandas as pd\n",
    "import os\n",
    "import matplotlib as mpl\n",
    "import matplotlib.pyplot as plt"
   ]
  },
  {
   "cell_type": "code",
   "execution_count": 18,
   "id": "0bb9c998",
   "metadata": {},
   "outputs": [],
   "source": [
    "# Assign the Kaggle data set URL into variable\n",
    "dataset = 'https://www.kaggle.com/datasets/shariful07/student-mental-health/code'\n"
   ]
  },
  {
   "cell_type": "code",
   "execution_count": 19,
   "id": "f8458207",
   "metadata": {},
   "outputs": [
    {
     "name": "stdout",
     "output_type": "stream",
     "text": [
      "Skipping, found downloaded files in \"./student-mental-health\" (use force=True to force download)\n"
     ]
    }
   ],
   "source": [
    "# Using opendatasets let's download the data sets\n",
    "od.download(dataset)"
   ]
  },
  {
   "cell_type": "code",
   "execution_count": 27,
   "id": "82e15e5f",
   "metadata": {},
   "outputs": [],
   "source": [
    "data_dir = 'student-mental-health'"
   ]
  },
  {
   "cell_type": "code",
   "execution_count": 28,
   "id": "ee591ff2",
   "metadata": {},
   "outputs": [
    {
     "data": {
      "text/plain": [
       "['Student Mental health.csv']"
      ]
     },
     "execution_count": 28,
     "metadata": {},
     "output_type": "execute_result"
    }
   ],
   "source": [
    "os.listdir(data_dir)"
   ]
  },
  {
   "cell_type": "code",
   "execution_count": 29,
   "id": "6157cb1e",
   "metadata": {},
   "outputs": [],
   "source": [
    "df = pd.read_csv('student-mental-health/Student Mental health.csv')"
   ]
  },
  {
   "cell_type": "markdown",
   "id": "9ae82a65",
   "metadata": {},
   "source": [
    "# MENTAL HEALTH AMONG COLLEGE STUDENTS"
   ]
  },
  {
   "cell_type": "code",
   "execution_count": 63,
   "id": "6eef8103",
   "metadata": {},
   "outputs": [
    {
     "name": "stdout",
     "output_type": "stream",
     "text": [
      "<class 'pandas.core.frame.DataFrame'>\n",
      "RangeIndex: 101 entries, 0 to 100\n",
      "Data columns (total 11 columns):\n",
      " #   Column                                        Non-Null Count  Dtype  \n",
      "---  ------                                        --------------  -----  \n",
      " 0   Timestamp                                     101 non-null    object \n",
      " 1   Choose your gender                            101 non-null    object \n",
      " 2   Age                                           100 non-null    float64\n",
      " 3   What is your course?                          101 non-null    object \n",
      " 4   Your current year of Study                    101 non-null    object \n",
      " 5   What is your CGPA?                            101 non-null    object \n",
      " 6   Marital status                                101 non-null    object \n",
      " 7   Do you have Depression?                       101 non-null    object \n",
      " 8   Do you have Anxiety?                          101 non-null    object \n",
      " 9   Do you have Panic attack?                     101 non-null    object \n",
      " 10  Did you seek any specialist for a treatment?  101 non-null    object \n",
      "dtypes: float64(1), object(10)\n",
      "memory usage: 8.8+ KB\n"
     ]
    }
   ],
   "source": [
    "df.info()"
   ]
  },
  {
   "cell_type": "code",
   "execution_count": 65,
   "id": "35aa5bea",
   "metadata": {},
   "outputs": [
    {
     "data": {
      "text/plain": [
       "Timestamp                                       0\n",
       "Choose your gender                              0\n",
       "Age                                             1\n",
       "What is your course?                            0\n",
       "Your current year of Study                      0\n",
       "What is your CGPA?                              0\n",
       "Marital status                                  0\n",
       "Do you have Depression?                         0\n",
       "Do you have Anxiety?                            0\n",
       "Do you have Panic attack?                       0\n",
       "Did you seek any specialist for a treatment?    0\n",
       "dtype: int64"
      ]
     },
     "execution_count": 65,
     "metadata": {},
     "output_type": "execute_result"
    }
   ],
   "source": [
    "df.isna().sum()"
   ]
  },
  {
   "cell_type": "code",
   "execution_count": 34,
   "id": "27dc1b6b",
   "metadata": {},
   "outputs": [
    {
     "data": {
      "text/html": [
       "<div>\n",
       "<style scoped>\n",
       "    .dataframe tbody tr th:only-of-type {\n",
       "        vertical-align: middle;\n",
       "    }\n",
       "\n",
       "    .dataframe tbody tr th {\n",
       "        vertical-align: top;\n",
       "    }\n",
       "\n",
       "    .dataframe thead th {\n",
       "        text-align: right;\n",
       "    }\n",
       "</style>\n",
       "<table border=\"1\" class=\"dataframe\">\n",
       "  <thead>\n",
       "    <tr style=\"text-align: right;\">\n",
       "      <th></th>\n",
       "      <th>Timestamp</th>\n",
       "      <th>Choose your gender</th>\n",
       "      <th>Age</th>\n",
       "      <th>What is your course?</th>\n",
       "      <th>Your current year of Study</th>\n",
       "      <th>What is your CGPA?</th>\n",
       "      <th>Marital status</th>\n",
       "      <th>Do you have Depression?</th>\n",
       "      <th>Do you have Anxiety?</th>\n",
       "      <th>Do you have Panic attack?</th>\n",
       "      <th>Did you seek any specialist for a treatment?</th>\n",
       "    </tr>\n",
       "  </thead>\n",
       "  <tbody>\n",
       "    <tr>\n",
       "      <th>0</th>\n",
       "      <td>8/7/2020 12:02</td>\n",
       "      <td>Female</td>\n",
       "      <td>18.0</td>\n",
       "      <td>Engineering</td>\n",
       "      <td>year 1</td>\n",
       "      <td>3.00 - 3.49</td>\n",
       "      <td>No</td>\n",
       "      <td>Yes</td>\n",
       "      <td>No</td>\n",
       "      <td>Yes</td>\n",
       "      <td>No</td>\n",
       "    </tr>\n",
       "    <tr>\n",
       "      <th>1</th>\n",
       "      <td>8/7/2020 12:04</td>\n",
       "      <td>Male</td>\n",
       "      <td>21.0</td>\n",
       "      <td>Islamic education</td>\n",
       "      <td>year 2</td>\n",
       "      <td>3.00 - 3.49</td>\n",
       "      <td>No</td>\n",
       "      <td>No</td>\n",
       "      <td>Yes</td>\n",
       "      <td>No</td>\n",
       "      <td>No</td>\n",
       "    </tr>\n",
       "    <tr>\n",
       "      <th>2</th>\n",
       "      <td>8/7/2020 12:05</td>\n",
       "      <td>Male</td>\n",
       "      <td>19.0</td>\n",
       "      <td>BIT</td>\n",
       "      <td>Year 1</td>\n",
       "      <td>3.00 - 3.49</td>\n",
       "      <td>No</td>\n",
       "      <td>Yes</td>\n",
       "      <td>Yes</td>\n",
       "      <td>Yes</td>\n",
       "      <td>No</td>\n",
       "    </tr>\n",
       "    <tr>\n",
       "      <th>3</th>\n",
       "      <td>8/7/2020 12:06</td>\n",
       "      <td>Female</td>\n",
       "      <td>22.0</td>\n",
       "      <td>Laws</td>\n",
       "      <td>year 3</td>\n",
       "      <td>3.00 - 3.49</td>\n",
       "      <td>Yes</td>\n",
       "      <td>Yes</td>\n",
       "      <td>No</td>\n",
       "      <td>No</td>\n",
       "      <td>No</td>\n",
       "    </tr>\n",
       "    <tr>\n",
       "      <th>4</th>\n",
       "      <td>8/7/2020 12:13</td>\n",
       "      <td>Male</td>\n",
       "      <td>23.0</td>\n",
       "      <td>Mathemathics</td>\n",
       "      <td>year 4</td>\n",
       "      <td>3.00 - 3.49</td>\n",
       "      <td>No</td>\n",
       "      <td>No</td>\n",
       "      <td>No</td>\n",
       "      <td>No</td>\n",
       "      <td>No</td>\n",
       "    </tr>\n",
       "    <tr>\n",
       "      <th>5</th>\n",
       "      <td>8/7/2020 12:31</td>\n",
       "      <td>Male</td>\n",
       "      <td>19.0</td>\n",
       "      <td>Engineering</td>\n",
       "      <td>Year 2</td>\n",
       "      <td>3.50 - 4.00</td>\n",
       "      <td>No</td>\n",
       "      <td>No</td>\n",
       "      <td>No</td>\n",
       "      <td>Yes</td>\n",
       "      <td>No</td>\n",
       "    </tr>\n",
       "    <tr>\n",
       "      <th>6</th>\n",
       "      <td>8/7/2020 12:32</td>\n",
       "      <td>Female</td>\n",
       "      <td>23.0</td>\n",
       "      <td>Pendidikan islam</td>\n",
       "      <td>year 2</td>\n",
       "      <td>3.50 - 4.00</td>\n",
       "      <td>Yes</td>\n",
       "      <td>Yes</td>\n",
       "      <td>No</td>\n",
       "      <td>Yes</td>\n",
       "      <td>No</td>\n",
       "    </tr>\n",
       "    <tr>\n",
       "      <th>7</th>\n",
       "      <td>8/7/2020 12:33</td>\n",
       "      <td>Female</td>\n",
       "      <td>18.0</td>\n",
       "      <td>BCS</td>\n",
       "      <td>year 1</td>\n",
       "      <td>3.50 - 4.00</td>\n",
       "      <td>No</td>\n",
       "      <td>No</td>\n",
       "      <td>Yes</td>\n",
       "      <td>No</td>\n",
       "      <td>No</td>\n",
       "    </tr>\n",
       "    <tr>\n",
       "      <th>8</th>\n",
       "      <td>8/7/2020 12:35</td>\n",
       "      <td>Female</td>\n",
       "      <td>19.0</td>\n",
       "      <td>Human Resources</td>\n",
       "      <td>Year 2</td>\n",
       "      <td>2.50 - 2.99</td>\n",
       "      <td>No</td>\n",
       "      <td>No</td>\n",
       "      <td>No</td>\n",
       "      <td>No</td>\n",
       "      <td>No</td>\n",
       "    </tr>\n",
       "    <tr>\n",
       "      <th>9</th>\n",
       "      <td>8/7/2020 12:39</td>\n",
       "      <td>Male</td>\n",
       "      <td>18.0</td>\n",
       "      <td>Irkhs</td>\n",
       "      <td>year 1</td>\n",
       "      <td>3.50 - 4.00</td>\n",
       "      <td>No</td>\n",
       "      <td>No</td>\n",
       "      <td>Yes</td>\n",
       "      <td>Yes</td>\n",
       "      <td>No</td>\n",
       "    </tr>\n",
       "    <tr>\n",
       "      <th>10</th>\n",
       "      <td>8/7/2020 12:39</td>\n",
       "      <td>Female</td>\n",
       "      <td>20.0</td>\n",
       "      <td>Psychology</td>\n",
       "      <td>year 1</td>\n",
       "      <td>3.50 - 4.00</td>\n",
       "      <td>No</td>\n",
       "      <td>No</td>\n",
       "      <td>No</td>\n",
       "      <td>No</td>\n",
       "      <td>No</td>\n",
       "    </tr>\n",
       "    <tr>\n",
       "      <th>11</th>\n",
       "      <td>8/7/2020 12:39</td>\n",
       "      <td>Female</td>\n",
       "      <td>24.0</td>\n",
       "      <td>Engineering</td>\n",
       "      <td>Year 3</td>\n",
       "      <td>3.50 - 4.00</td>\n",
       "      <td>Yes</td>\n",
       "      <td>Yes</td>\n",
       "      <td>No</td>\n",
       "      <td>No</td>\n",
       "      <td>No</td>\n",
       "    </tr>\n",
       "    <tr>\n",
       "      <th>12</th>\n",
       "      <td>8/7/2020 12:40</td>\n",
       "      <td>Female</td>\n",
       "      <td>18.0</td>\n",
       "      <td>BCS</td>\n",
       "      <td>year 1</td>\n",
       "      <td>3.00 - 3.49</td>\n",
       "      <td>No</td>\n",
       "      <td>Yes</td>\n",
       "      <td>No</td>\n",
       "      <td>No</td>\n",
       "      <td>No</td>\n",
       "    </tr>\n",
       "    <tr>\n",
       "      <th>13</th>\n",
       "      <td>8/7/2020 12:41</td>\n",
       "      <td>Male</td>\n",
       "      <td>19.0</td>\n",
       "      <td>Engineering</td>\n",
       "      <td>year 1</td>\n",
       "      <td>3.00 - 3.49</td>\n",
       "      <td>No</td>\n",
       "      <td>No</td>\n",
       "      <td>No</td>\n",
       "      <td>No</td>\n",
       "      <td>No</td>\n",
       "    </tr>\n",
       "    <tr>\n",
       "      <th>14</th>\n",
       "      <td>8/7/2020 12:43</td>\n",
       "      <td>Female</td>\n",
       "      <td>18.0</td>\n",
       "      <td>KENMS</td>\n",
       "      <td>Year 2</td>\n",
       "      <td>3.50 - 4.00</td>\n",
       "      <td>No</td>\n",
       "      <td>No</td>\n",
       "      <td>Yes</td>\n",
       "      <td>No</td>\n",
       "      <td>No</td>\n",
       "    </tr>\n",
       "    <tr>\n",
       "      <th>15</th>\n",
       "      <td>8/7/2020 12:43</td>\n",
       "      <td>Male</td>\n",
       "      <td>24.0</td>\n",
       "      <td>BCS</td>\n",
       "      <td>Year 3</td>\n",
       "      <td>3.50 - 4.00</td>\n",
       "      <td>No</td>\n",
       "      <td>No</td>\n",
       "      <td>No</td>\n",
       "      <td>No</td>\n",
       "      <td>No</td>\n",
       "    </tr>\n",
       "    <tr>\n",
       "      <th>16</th>\n",
       "      <td>8/7/2020 12:46</td>\n",
       "      <td>Female</td>\n",
       "      <td>24.0</td>\n",
       "      <td>Accounting</td>\n",
       "      <td>year 3</td>\n",
       "      <td>3.00 - 3.49</td>\n",
       "      <td>No</td>\n",
       "      <td>No</td>\n",
       "      <td>No</td>\n",
       "      <td>No</td>\n",
       "      <td>No</td>\n",
       "    </tr>\n",
       "    <tr>\n",
       "      <th>17</th>\n",
       "      <td>8/7/2020 12:52</td>\n",
       "      <td>Female</td>\n",
       "      <td>24.0</td>\n",
       "      <td>ENM</td>\n",
       "      <td>year 4</td>\n",
       "      <td>3.00 - 3.49</td>\n",
       "      <td>Yes</td>\n",
       "      <td>Yes</td>\n",
       "      <td>Yes</td>\n",
       "      <td>Yes</td>\n",
       "      <td>No</td>\n",
       "    </tr>\n",
       "    <tr>\n",
       "      <th>18</th>\n",
       "      <td>8/7/2020 13:05</td>\n",
       "      <td>Female</td>\n",
       "      <td>20.0</td>\n",
       "      <td>BIT</td>\n",
       "      <td>Year 2</td>\n",
       "      <td>3.50 - 4.00</td>\n",
       "      <td>No</td>\n",
       "      <td>No</td>\n",
       "      <td>Yes</td>\n",
       "      <td>No</td>\n",
       "      <td>No</td>\n",
       "    </tr>\n",
       "    <tr>\n",
       "      <th>19</th>\n",
       "      <td>8/7/2020 13:07</td>\n",
       "      <td>Female</td>\n",
       "      <td>18.0</td>\n",
       "      <td>Marine science</td>\n",
       "      <td>year 2</td>\n",
       "      <td>3.50 - 4.00</td>\n",
       "      <td>Yes</td>\n",
       "      <td>Yes</td>\n",
       "      <td>Yes</td>\n",
       "      <td>Yes</td>\n",
       "      <td>No</td>\n",
       "    </tr>\n",
       "  </tbody>\n",
       "</table>\n",
       "</div>"
      ],
      "text/plain": [
       "         Timestamp Choose your gender   Age What is your course?  \\\n",
       "0   8/7/2020 12:02             Female  18.0          Engineering   \n",
       "1   8/7/2020 12:04               Male  21.0    Islamic education   \n",
       "2   8/7/2020 12:05               Male  19.0                  BIT   \n",
       "3   8/7/2020 12:06             Female  22.0                 Laws   \n",
       "4   8/7/2020 12:13               Male  23.0         Mathemathics   \n",
       "5   8/7/2020 12:31               Male  19.0          Engineering   \n",
       "6   8/7/2020 12:32             Female  23.0     Pendidikan islam   \n",
       "7   8/7/2020 12:33             Female  18.0                  BCS   \n",
       "8   8/7/2020 12:35             Female  19.0      Human Resources   \n",
       "9   8/7/2020 12:39               Male  18.0                Irkhs   \n",
       "10  8/7/2020 12:39             Female  20.0           Psychology   \n",
       "11  8/7/2020 12:39             Female  24.0          Engineering   \n",
       "12  8/7/2020 12:40             Female  18.0                  BCS   \n",
       "13  8/7/2020 12:41               Male  19.0          Engineering   \n",
       "14  8/7/2020 12:43             Female  18.0                KENMS   \n",
       "15  8/7/2020 12:43               Male  24.0                  BCS   \n",
       "16  8/7/2020 12:46             Female  24.0          Accounting    \n",
       "17  8/7/2020 12:52             Female  24.0                  ENM   \n",
       "18  8/7/2020 13:05             Female  20.0                  BIT   \n",
       "19  8/7/2020 13:07             Female  18.0       Marine science   \n",
       "\n",
       "   Your current year of Study What is your CGPA? Marital status  \\\n",
       "0                      year 1        3.00 - 3.49             No   \n",
       "1                      year 2        3.00 - 3.49             No   \n",
       "2                      Year 1        3.00 - 3.49             No   \n",
       "3                      year 3        3.00 - 3.49            Yes   \n",
       "4                      year 4        3.00 - 3.49             No   \n",
       "5                      Year 2        3.50 - 4.00             No   \n",
       "6                      year 2       3.50 - 4.00             Yes   \n",
       "7                      year 1        3.50 - 4.00             No   \n",
       "8                      Year 2        2.50 - 2.99             No   \n",
       "9                      year 1        3.50 - 4.00             No   \n",
       "10                     year 1        3.50 - 4.00             No   \n",
       "11                     Year 3        3.50 - 4.00            Yes   \n",
       "12                     year 1        3.00 - 3.49             No   \n",
       "13                     year 1        3.00 - 3.49             No   \n",
       "14                     Year 2        3.50 - 4.00             No   \n",
       "15                     Year 3        3.50 - 4.00             No   \n",
       "16                     year 3        3.00 - 3.49             No   \n",
       "17                     year 4        3.00 - 3.49            Yes   \n",
       "18                     Year 2        3.50 - 4.00             No   \n",
       "19                     year 2        3.50 - 4.00            Yes   \n",
       "\n",
       "   Do you have Depression? Do you have Anxiety? Do you have Panic attack?  \\\n",
       "0                      Yes                   No                       Yes   \n",
       "1                       No                  Yes                        No   \n",
       "2                      Yes                  Yes                       Yes   \n",
       "3                      Yes                   No                        No   \n",
       "4                       No                   No                        No   \n",
       "5                       No                   No                       Yes   \n",
       "6                      Yes                   No                       Yes   \n",
       "7                       No                  Yes                        No   \n",
       "8                       No                   No                        No   \n",
       "9                       No                  Yes                       Yes   \n",
       "10                      No                   No                        No   \n",
       "11                     Yes                   No                        No   \n",
       "12                     Yes                   No                        No   \n",
       "13                      No                   No                        No   \n",
       "14                      No                  Yes                        No   \n",
       "15                      No                   No                        No   \n",
       "16                      No                   No                        No   \n",
       "17                     Yes                  Yes                       Yes   \n",
       "18                      No                  Yes                        No   \n",
       "19                     Yes                  Yes                       Yes   \n",
       "\n",
       "   Did you seek any specialist for a treatment?  \n",
       "0                                            No  \n",
       "1                                            No  \n",
       "2                                            No  \n",
       "3                                            No  \n",
       "4                                            No  \n",
       "5                                            No  \n",
       "6                                            No  \n",
       "7                                            No  \n",
       "8                                            No  \n",
       "9                                            No  \n",
       "10                                           No  \n",
       "11                                           No  \n",
       "12                                           No  \n",
       "13                                           No  \n",
       "14                                           No  \n",
       "15                                           No  \n",
       "16                                           No  \n",
       "17                                           No  \n",
       "18                                           No  \n",
       "19                                           No  "
      ]
     },
     "execution_count": 34,
     "metadata": {},
     "output_type": "execute_result"
    }
   ],
   "source": [
    "df.head(20)"
   ]
  },
  {
   "cell_type": "markdown",
   "id": "f4653c7a",
   "metadata": {},
   "source": [
    "**DATA FRAMES SEPARATED ACCORDING TO GENDER**"
   ]
  },
  {
   "cell_type": "code",
   "execution_count": 39,
   "id": "c9e516c3",
   "metadata": {},
   "outputs": [],
   "source": [
    "female = df[df['Choose your gender'] == 'Female']\n",
    "male = df[df['Choose your gender'] == 'Male']"
   ]
  },
  {
   "cell_type": "code",
   "execution_count": 61,
   "id": "cc9404d2",
   "metadata": {},
   "outputs": [
    {
     "data": {
      "text/html": [
       "<div>\n",
       "<style scoped>\n",
       "    .dataframe tbody tr th:only-of-type {\n",
       "        vertical-align: middle;\n",
       "    }\n",
       "\n",
       "    .dataframe tbody tr th {\n",
       "        vertical-align: top;\n",
       "    }\n",
       "\n",
       "    .dataframe thead th {\n",
       "        text-align: right;\n",
       "    }\n",
       "</style>\n",
       "<table border=\"1\" class=\"dataframe\">\n",
       "  <thead>\n",
       "    <tr style=\"text-align: right;\">\n",
       "      <th></th>\n",
       "      <th>Timestamp</th>\n",
       "      <th>Choose your gender</th>\n",
       "      <th>Age</th>\n",
       "      <th>What is your course?</th>\n",
       "      <th>Your current year of Study</th>\n",
       "      <th>What is your CGPA?</th>\n",
       "      <th>Marital status</th>\n",
       "      <th>Do you have Depression?</th>\n",
       "      <th>Do you have Anxiety?</th>\n",
       "      <th>Do you have Panic attack?</th>\n",
       "      <th>Did you seek any specialist for a treatment?</th>\n",
       "    </tr>\n",
       "  </thead>\n",
       "  <tbody>\n",
       "    <tr>\n",
       "      <th>0</th>\n",
       "      <td>8/7/2020 12:02</td>\n",
       "      <td>Female</td>\n",
       "      <td>18.0</td>\n",
       "      <td>Engineering</td>\n",
       "      <td>year 1</td>\n",
       "      <td>3.00 - 3.49</td>\n",
       "      <td>No</td>\n",
       "      <td>Yes</td>\n",
       "      <td>No</td>\n",
       "      <td>Yes</td>\n",
       "      <td>No</td>\n",
       "    </tr>\n",
       "    <tr>\n",
       "      <th>3</th>\n",
       "      <td>8/7/2020 12:06</td>\n",
       "      <td>Female</td>\n",
       "      <td>22.0</td>\n",
       "      <td>Laws</td>\n",
       "      <td>year 3</td>\n",
       "      <td>3.00 - 3.49</td>\n",
       "      <td>Yes</td>\n",
       "      <td>Yes</td>\n",
       "      <td>No</td>\n",
       "      <td>No</td>\n",
       "      <td>No</td>\n",
       "    </tr>\n",
       "    <tr>\n",
       "      <th>6</th>\n",
       "      <td>8/7/2020 12:32</td>\n",
       "      <td>Female</td>\n",
       "      <td>23.0</td>\n",
       "      <td>Pendidikan islam</td>\n",
       "      <td>year 2</td>\n",
       "      <td>3.50 - 4.00</td>\n",
       "      <td>Yes</td>\n",
       "      <td>Yes</td>\n",
       "      <td>No</td>\n",
       "      <td>Yes</td>\n",
       "      <td>No</td>\n",
       "    </tr>\n",
       "  </tbody>\n",
       "</table>\n",
       "</div>"
      ],
      "text/plain": [
       "        Timestamp Choose your gender   Age What is your course?  \\\n",
       "0  8/7/2020 12:02             Female  18.0          Engineering   \n",
       "3  8/7/2020 12:06             Female  22.0                 Laws   \n",
       "6  8/7/2020 12:32             Female  23.0     Pendidikan islam   \n",
       "\n",
       "  Your current year of Study What is your CGPA? Marital status  \\\n",
       "0                     year 1        3.00 - 3.49             No   \n",
       "3                     year 3        3.00 - 3.49            Yes   \n",
       "6                     year 2       3.50 - 4.00             Yes   \n",
       "\n",
       "  Do you have Depression? Do you have Anxiety? Do you have Panic attack?  \\\n",
       "0                     Yes                   No                       Yes   \n",
       "3                     Yes                   No                        No   \n",
       "6                     Yes                   No                       Yes   \n",
       "\n",
       "  Did you seek any specialist for a treatment?  \n",
       "0                                           No  \n",
       "3                                           No  \n",
       "6                                           No  "
      ]
     },
     "execution_count": 61,
     "metadata": {},
     "output_type": "execute_result"
    }
   ],
   "source": [
    "female.head(3)"
   ]
  },
  {
   "cell_type": "code",
   "execution_count": 62,
   "id": "c765b2f2",
   "metadata": {},
   "outputs": [
    {
     "data": {
      "text/html": [
       "<div>\n",
       "<style scoped>\n",
       "    .dataframe tbody tr th:only-of-type {\n",
       "        vertical-align: middle;\n",
       "    }\n",
       "\n",
       "    .dataframe tbody tr th {\n",
       "        vertical-align: top;\n",
       "    }\n",
       "\n",
       "    .dataframe thead th {\n",
       "        text-align: right;\n",
       "    }\n",
       "</style>\n",
       "<table border=\"1\" class=\"dataframe\">\n",
       "  <thead>\n",
       "    <tr style=\"text-align: right;\">\n",
       "      <th></th>\n",
       "      <th>Timestamp</th>\n",
       "      <th>Choose your gender</th>\n",
       "      <th>Age</th>\n",
       "      <th>What is your course?</th>\n",
       "      <th>Your current year of Study</th>\n",
       "      <th>What is your CGPA?</th>\n",
       "      <th>Marital status</th>\n",
       "      <th>Do you have Depression?</th>\n",
       "      <th>Do you have Anxiety?</th>\n",
       "      <th>Do you have Panic attack?</th>\n",
       "      <th>Did you seek any specialist for a treatment?</th>\n",
       "    </tr>\n",
       "  </thead>\n",
       "  <tbody>\n",
       "    <tr>\n",
       "      <th>1</th>\n",
       "      <td>8/7/2020 12:04</td>\n",
       "      <td>Male</td>\n",
       "      <td>21.0</td>\n",
       "      <td>Islamic education</td>\n",
       "      <td>year 2</td>\n",
       "      <td>3.00 - 3.49</td>\n",
       "      <td>No</td>\n",
       "      <td>No</td>\n",
       "      <td>Yes</td>\n",
       "      <td>No</td>\n",
       "      <td>No</td>\n",
       "    </tr>\n",
       "    <tr>\n",
       "      <th>2</th>\n",
       "      <td>8/7/2020 12:05</td>\n",
       "      <td>Male</td>\n",
       "      <td>19.0</td>\n",
       "      <td>BIT</td>\n",
       "      <td>Year 1</td>\n",
       "      <td>3.00 - 3.49</td>\n",
       "      <td>No</td>\n",
       "      <td>Yes</td>\n",
       "      <td>Yes</td>\n",
       "      <td>Yes</td>\n",
       "      <td>No</td>\n",
       "    </tr>\n",
       "    <tr>\n",
       "      <th>4</th>\n",
       "      <td>8/7/2020 12:13</td>\n",
       "      <td>Male</td>\n",
       "      <td>23.0</td>\n",
       "      <td>Mathemathics</td>\n",
       "      <td>year 4</td>\n",
       "      <td>3.00 - 3.49</td>\n",
       "      <td>No</td>\n",
       "      <td>No</td>\n",
       "      <td>No</td>\n",
       "      <td>No</td>\n",
       "      <td>No</td>\n",
       "    </tr>\n",
       "  </tbody>\n",
       "</table>\n",
       "</div>"
      ],
      "text/plain": [
       "        Timestamp Choose your gender   Age What is your course?  \\\n",
       "1  8/7/2020 12:04               Male  21.0    Islamic education   \n",
       "2  8/7/2020 12:05               Male  19.0                  BIT   \n",
       "4  8/7/2020 12:13               Male  23.0         Mathemathics   \n",
       "\n",
       "  Your current year of Study What is your CGPA? Marital status  \\\n",
       "1                     year 2        3.00 - 3.49             No   \n",
       "2                     Year 1        3.00 - 3.49             No   \n",
       "4                     year 4        3.00 - 3.49             No   \n",
       "\n",
       "  Do you have Depression? Do you have Anxiety? Do you have Panic attack?  \\\n",
       "1                      No                  Yes                        No   \n",
       "2                     Yes                  Yes                       Yes   \n",
       "4                      No                   No                        No   \n",
       "\n",
       "  Did you seek any specialist for a treatment?  \n",
       "1                                           No  \n",
       "2                                           No  \n",
       "4                                           No  "
      ]
     },
     "execution_count": 62,
     "metadata": {},
     "output_type": "execute_result"
    }
   ],
   "source": [
    "male.head(3)"
   ]
  },
  {
   "cell_type": "markdown",
   "id": "999e631c",
   "metadata": {},
   "source": [
    "**PIE CHART MADE ACCORDING TO YES/ NO DEPRESSION**"
   ]
  },
  {
   "cell_type": "code",
   "execution_count": 43,
   "id": "daa8ac88",
   "metadata": {},
   "outputs": [
    {
     "data": {
      "text/plain": [
       "Do you have Depression?\n",
       "No     66\n",
       "Yes    35\n",
       "Name: count, dtype: int64"
      ]
     },
     "execution_count": 43,
     "metadata": {},
     "output_type": "execute_result"
    }
   ],
   "source": [
    "counts = df['Do you have Depression?'].value_counts()\n",
    "counts"
   ]
  },
  {
   "cell_type": "code",
   "execution_count": 47,
   "id": "60cf169c",
   "metadata": {},
   "outputs": [
    {
     "data": {
      "text/plain": [
       "Do you have Depression?\n",
       "No     66\n",
       "Yes    35\n",
       "Name: count, dtype: int64"
      ]
     },
     "execution_count": 47,
     "metadata": {},
     "output_type": "execute_result"
    }
   ],
   "source": [
    "counts= counts.sort_index()\n",
    "counts"
   ]
  },
  {
   "cell_type": "code",
   "execution_count": 48,
   "id": "6789ff45",
   "metadata": {},
   "outputs": [
    {
     "data": {
      "image/png": "[encoded data removed]",
      "text/plain": [
       "<Figure size 640x480 with 1 Axes>"
      ]
     },
     "metadata": {},
     "output_type": "display_data"
    }
   ],
   "source": [
    "fig, ax = plt.subplots()\n",
    "ax.pie(counts, labels = ['No', 'Yes'])\n",
    "plt.show()"
   ]
  },
  {
   "cell_type": "code",
   "execution_count": 52,
   "id": "ed204d38",
   "metadata": {},
   "outputs": [
    {
     "data": {
      "image/png": "[encoded data removed]",
      "text/plain": [
       "<Figure size 640x480 with 1 Axes>"
      ]
     },
     "metadata": {},
     "output_type": "display_data"
    }
   ],
   "source": [
    "fig, ax = plt.subplots()\n",
    "\n",
    "#CHANGE THE PIE CHART SO IT SHOWS PERCENTAGES:\n",
    "ax.pie(counts, autopct= '%1.1f%%')\n",
    "\n",
    "#ADD LEGENDS, LABEL, AND ADD TITLE + LOCATION OF LEGEND:\n",
    "\n",
    "ax.legend(labels = ['No', 'Yes'], title = 'ANSWER:', loc= 'lower right')\n",
    "\n",
    "#ADD TITLE TO PIE CHART:\n",
    "\n",
    "ax.set_title('Do You Have Depression?')\n",
    "\n",
    "plt.show()"
   ]
  },
  {
   "cell_type": "markdown",
   "id": "c0fc412e",
   "metadata": {},
   "source": [
    "**PIE CHART MADE ACCORDING TO DEPRESSION IN MALE/FEMALE**"
   ]
  },
  {
   "cell_type": "code",
   "execution_count": 57,
   "id": "eac9ff68",
   "metadata": {},
   "outputs": [],
   "source": [
    "DY = df[df['Do you have Depression?'] == 'Yes']\n"
   ]
  },
  {
   "cell_type": "code",
   "execution_count": 58,
   "id": "714df128",
   "metadata": {},
   "outputs": [
    {
     "data": {
      "text/plain": [
       "Choose your gender\n",
       "Female    29\n",
       "Male       6\n",
       "Name: count, dtype: int64"
      ]
     },
     "execution_count": 58,
     "metadata": {},
     "output_type": "execute_result"
    }
   ],
   "source": [
    "counts2= DY['Choose your gender'].value_counts()\n",
    "counts2"
   ]
  },
  {
   "cell_type": "code",
   "execution_count": 59,
   "id": "068819a1",
   "metadata": {},
   "outputs": [
    {
     "data": {
      "image/png": "[encoded data removed]",
      "text/plain": [
       "<Figure size 640x480 with 1 Axes>"
      ]
     },
     "metadata": {},
     "output_type": "display_data"
    }
   ],
   "source": [
    "fig, ax = plt.subplots()\n",
    "\n",
    "#CHANGE THE PIE CHART SO IT SHOWS PERCENTAGES:\n",
    "ax.pie(counts2, autopct= '%1.1f%%')\n",
    "\n",
    "#ADD LEGENDS, LABEL, AND ADD TITLE + LOCATION OF LEGEND:\n",
    "\n",
    "ax.legend(labels = ['Female', 'Male'], title = 'Gender:', loc= 'lower right')\n",
    "\n",
    "#ADD TITLE TO PIE CHART:\n",
    "\n",
    "ax.set_title('Comparison in Depression According to Gender')\n",
    "\n",
    "plt.show()"
   ]
  }
 ],
 "metadata": {
  "kernelspec": {
   "display_name": "Python 3 (ipykernel)",
   "language": "python",
   "name": "python3"
  },
  "language_info": {
   "codemirror_mode": {
    "name": "ipython",
    "version": 3
   },
   "file_extension": ".py",
   "mimetype": "text/x-python",
   "name": "python",
   "nbconvert_exporter": "python",
   "pygments_lexer": "ipython3",
   "version": "3.11.5"
  }
 },
 "nbformat": 4,
 "nbformat_minor": 5
}
